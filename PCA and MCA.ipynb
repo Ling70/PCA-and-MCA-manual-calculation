{
 "cells": [
  {
   "cell_type": "code",
   "execution_count": 0,
   "metadata": {
    "colab": {},
    "colab_type": "code",
    "id": "dO3A3ZwnNowy"
   },
   "outputs": [],
   "source": [
    "import warnings\n",
    "warnings.filterwarnings(\"ignore\")"
   ]
  },
  {
   "cell_type": "markdown",
   "metadata": {
    "colab_type": "text",
    "id": "dUfu9cFJHNp4"
   },
   "source": [
    "### Feature Reduction - Use Prince package"
   ]
  },
  {
   "cell_type": "markdown",
   "metadata": {
    "colab_type": "text",
    "id": "Ek0k0xeuS-52"
   },
   "source": [
    "#### PCA to reduce dimension for continous data"
   ]
  },
  {
   "cell_type": "code",
   "execution_count": 0,
   "metadata": {
    "colab": {},
    "colab_type": "code",
    "id": "PuLIFsseg7Hj"
   },
   "outputs": [],
   "source": [
    "import prince\n",
    "\n",
    "def reduceFeaturePCA(df, df_un, method):\n",
    "    \n",
    "    print(\"start PCA ... \")\n",
    "    start = time.time()\n",
    "    \n",
    "    pca = prince.PCA(n_components=len(list(df)),n_iter=3,rescale_with_mean=True,rescale_with_std=True,copy=True,check_input=True,engine='auto',random_state=42)\n",
    "    pca = pca.fit(df)    \n",
    "    e_vals = pca.eigenvalues_\n",
    "    \n",
    "    exp_val = [(i/sum(e_vals))*100 for i in sorted(e_vals,reverse=True)]\n",
    "    cs_exp_val = np.cumsum(exp_val)\n",
    "\n",
    "    percentages = [10,35,55,80,95,99]\n",
    "    picked_components = []\n",
    "\n",
    "    for p in percentages:\n",
    "        picked_components.append(np.argmax(cs_exp_val>p))\n",
    "    print(picked_components)\n",
    "\n",
    "    \n",
    "    # plot cumulated sum of eigenvalues percentage\n",
    "    # index starts from 0,so plus 1 to get the number of components\n",
    "    x = np.arange(1, len(e_vals)+1)\n",
    "    fig, ax = plt.subplots(figsize=(20, 10))\n",
    "    plt.plot(x, np.real(cs_exp_val))\n",
    "    plt.scatter(x[picked_components], cs_exp_val[picked_components], s = 50,marker = 'o')\n",
    "    for a, b in zip(x[picked_components], cs_exp_val[picked_components]):\n",
    "        plt.text(a-0.1, b+0.1, '%.0f' % a,verticalalignment = 'bottom', horizontalalignment = 'right', fontsize = 16)\n",
    "    plt.title('Remained variance by different principal components')\n",
    "    plt.ylabel('Remained variance in percent')\n",
    "    plt.xlabel('Picked principle conponents')\n",
    "    plt.show()    \n",
    "    \n",
    "    X = pca.transform(df)\n",
    "    X_pca = X.iloc[:,0:picked_components[percentages.index(99)]]    \n",
    "    \n",
    "    return X_pca"
   ]
  },
  {
   "cell_type": "markdown",
   "metadata": {
    "colab_type": "text",
    "id": "kcrMd9hsS-56"
   },
   "source": [
    "#### MCA to reduce dimension for categorical data"
   ]
  },
  {
   "cell_type": "code",
   "execution_count": 0,
   "metadata": {
    "colab": {},
    "colab_type": "code",
    "id": "SuivL2NXS-56"
   },
   "outputs": [],
   "source": [
    "import prince\n",
    "\n",
    "def reduceFeatureMCA(df, df_un, method):\n",
    "    \n",
    "    print(\"start MCA ... \")\n",
    "    start = time.time()\n",
    "\n",
    "    mca = prince.MCA(n_components=len(list(df)),n_iter=3,copy=True,check_input=True,engine='auto',random_state=42)\n",
    "    mca = mca.fit(df)\n",
    "    e_vals = mca.eigenvalues_\n",
    "    \n",
    "    exp_val = [(i/sum(e_vals))*100 for i in sorted(e_vals,reverse=True)]\n",
    "    cs_exp_val = np.cumsum(exp_val)\n",
    "\n",
    "    percentages = [10,35,55,80,95,99]\n",
    "    picked_components = []\n",
    "\n",
    "    for p in percentages:\n",
    "        picked_components.append(np.argmax(cs_exp_val>p))\n",
    "    print(picked_components)\n",
    "\n",
    "    X = mca.transform(df)\n",
    "    X_mca = X.iloc[:,0:picked_components[percentages.index(99)]]    \n",
    "    \n",
    "    return X_mca"
   ]
  },
  {
   "cell_type": "markdown",
   "metadata": {},
   "source": [
    "### Feature Reduction - Manual calculate PCA and MCA"
   ]
  },
  {
   "cell_type": "code",
   "execution_count": 0,
   "metadata": {
    "colab": {},
    "colab_type": "code",
    "id": "vjIVd-VyHNr7"
   },
   "outputs": [],
   "source": [
    "import matplotlib.pyplot as plt\n",
    "import numpy as np\n",
    "import pandas as pd\n",
    "from datetime import datetime\n",
    "\n",
    "import matplotlib.dates as mdates\n",
    "from matplotlib.dates import MONDAY, DateFormatter, DayLocator, WeekdayLocator\n",
    "from datetime import timedelta\n",
    "from mpl_finance import candlestick2_ohlc, candlestick_ohlc\n",
    "import matplotlib.ticker as ticker\n",
    "\n",
    "import plotly\n",
    "import plotly.plotly as py\n",
    "import plotly.graph_objs as go\n",
    "\n",
    "def plot_zz_cp(df_price,title,frequency,line1,line2,line3,line4):\n",
    "    \n",
    "  # tick for daily data\n",
    "  mondays = WeekdayLocator(MONDAY)        \n",
    "  alldays = DayLocator()              \n",
    "  weekFormatter = DateFormatter('%b %d')  \n",
    "  \n",
    "  # tick for hourly data\n",
    "  date_fmt = mdates.DateFormatter('%d/%b')\n",
    "  hour_fmt = mdates.DateFormatter('%H:%M')\n",
    "\n",
    "  fig, ax = plt.subplots()\n",
    "  fig.subplots_adjust(bottom=0.5)\n",
    "\n",
    "  if 'd' in frequency or 'D' in frequency: \n",
    "    ax.xaxis.set_major_locator(mondays)\n",
    "    ax.xaxis.set_minor_locator(alldays)\n",
    "    ax.xaxis.set_major_formatter(weekFormatter)    \n",
    "    w=0.6\n",
    "  else: \n",
    "    ax.xaxis.set_major_locator(mdates.DayLocator(interval=1))\n",
    "    ax.xaxis.set_major_formatter(date_fmt)\n",
    "    ax.xaxis.set_minor_locator(mdates.HourLocator(interval=4))\n",
    "    ax.xaxis.set_minor_formatter(hour_fmt)\n",
    "    ax.xaxis.set_tick_params(which='major', pad=15) \n",
    "    w=0.006 \n",
    "  \n",
    "  candlestick_ohlc(ax, zip(mdates.date2num(df_price.index.to_pydatetime()),\n",
    "                       df_price['open'], df_price['high'],\n",
    "                       df_price['low'], df_price['close']),\n",
    "               width=w,colordown='pink',colorup='lightgreen')\n",
    "\n",
    "  \n",
    "  ax.xaxis_date()\n",
    "  ax.autoscale_view()\n",
    "  fig.set_size_inches(25,20)\n",
    "  plt.setp(plt.gca().get_xticklabels(), rotation=45, horizontalalignment='right')\n",
    "  plt.xticks(rotation=45)\n",
    "  ax.set_title(title)\n",
    "  ymin, ymax = ax.get_ylim()\n",
    "  #ax.set_ylim([0.5,1.2])\n",
    "  \n",
    "  plt.plot(df_price['zzValue84'], color='olive', linestyle='None', marker='o', markersize=12)\n",
    "  \n",
    "  if line1 == '': \n",
    "    plt.plot(df_price['zz84'], color='olive', label='zz', linestyle='dotted', linewidth=2) #, marker='o', markersize=12)\n",
    "  if line1 != '':\n",
    "    plt.plot(df_price[line1], color='black', label=line1, linewidth=2.5)\n",
    "  if line2 != '':\n",
    "    plt.plot(df_price[line2], color='cyan', label=line2, linestyle='dashed', linewidth=2)\n",
    "  if line3 != '':\n",
    "    plt.plot(df_price[line3], color='purple', label=line3, linestyle='dashed', linewidth=2)\n",
    "  if line4 != '':\n",
    "    plt.plot(df_price[line4], color='red', label=line4, linestyle='dashed', linewidth=2)\n",
    "  \n",
    "  plt.legend(loc='best')\n",
    "  \n",
    "  plt.show()"
   ]
  }
 ],
 "metadata": {
  "accelerator": "GPU",
  "colab": {
   "collapsed_sections": [],
   "name": "CP21_8_functions.ipynb",
   "provenance": [],
   "toc_visible": true
  },
  "kernelspec": {
   "display_name": "Python 3",
   "language": "python",
   "name": "python3"
  },
  "language_info": {
   "codemirror_mode": {
    "name": "ipython",
    "version": 3
   },
   "file_extension": ".py",
   "mimetype": "text/x-python",
   "name": "python",
   "nbconvert_exporter": "python",
   "pygments_lexer": "ipython3",
   "version": "3.6.5"
  }
 },
 "nbformat": 4,
 "nbformat_minor": 1
}
